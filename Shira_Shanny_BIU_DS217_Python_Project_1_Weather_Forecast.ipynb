{
  "cells": [
    {
      "cell_type": "markdown",
      "metadata": {
        "id": "view-in-github",
        "colab_type": "text"
      },
      "source": [
        "<a href=\"https://colab.research.google.com/github/ShiraShanny/Weather_Forecast_App/blob/main/Shira_Shanny_BIU_DS217_Python_Project_1_Weather_Forecast.ipynb\" target=\"_parent\"><img src=\"https://colab.research.google.com/assets/colab-badge.svg\" alt=\"Open In Colab\"/></a>"
      ]
    },
    {
      "cell_type": "code",
      "execution_count": 1,
      "metadata": {
        "colab": {
          "base_uri": "https://localhost:8080/"
        },
        "id": "d1aCTj5_4Pm8",
        "outputId": "18f571a3-0a5a-420d-d61f-c64e35b2f30e"
      },
      "outputs": [
        {
          "output_type": "stream",
          "name": "stdout",
          "text": [
            "Collecting timezonefinder\n",
            "  Downloading timezonefinder-6.5.1-cp310-cp310-manylinux_2_17_x86_64.manylinux_2_5_x86_64.manylinux1_x86_64.manylinux2014_x86_64.whl (49.4 MB)\n",
            "\u001b[2K     \u001b[90m━━━━━━━━━━━━━━━━━━━━━━━━━━━━━━━━━━━━━━━━\u001b[0m \u001b[32m49.4/49.4 MB\u001b[0m \u001b[31m9.5 MB/s\u001b[0m eta \u001b[36m0:00:00\u001b[0m\n",
            "\u001b[?25hRequirement already satisfied: pytz in /usr/local/lib/python3.10/dist-packages (2023.4)\n",
            "Requirement already satisfied: cffi<2,>=1.15.1 in /usr/local/lib/python3.10/dist-packages (from timezonefinder) (1.16.0)\n",
            "Collecting h3<4,>=3.7.6 (from timezonefinder)\n",
            "  Downloading h3-3.7.7-cp310-cp310-manylinux_2_17_x86_64.manylinux2014_x86_64.whl (1.2 MB)\n",
            "\u001b[2K     \u001b[90m━━━━━━━━━━━━━━━━━━━━━━━━━━━━━━━━━━━━━━━━\u001b[0m \u001b[32m1.2/1.2 MB\u001b[0m \u001b[31m23.6 MB/s\u001b[0m eta \u001b[36m0:00:00\u001b[0m\n",
            "\u001b[?25hRequirement already satisfied: numpy<2,>=1.23 in /usr/local/lib/python3.10/dist-packages (from timezonefinder) (1.25.2)\n",
            "Requirement already satisfied: setuptools>=65.5 in /usr/local/lib/python3.10/dist-packages (from timezonefinder) (67.7.2)\n",
            "Requirement already satisfied: pycparser in /usr/local/lib/python3.10/dist-packages (from cffi<2,>=1.15.1->timezonefinder) (2.22)\n",
            "Installing collected packages: h3, timezonefinder\n",
            "Successfully installed h3-3.7.7 timezonefinder-6.5.1\n"
          ]
        }
      ],
      "source": [
        "!pip install timezonefinder pytz\n",
        "import json\n",
        "import datetime as dt\n",
        "import pytz\n",
        "from timezonefinder import TimezoneFinder\n",
        "import requests\n",
        "import base64"
      ]
    },
    {
      "cell_type": "code",
      "execution_count": 2,
      "metadata": {
        "id": "JEOCOrar2ssy"
      },
      "outputs": [],
      "source": [
        "def get_weather_data(encoded_key, city_name, state_code = '', country_code = '',units = 'F'):\n",
        "  if units == 'C':\n",
        "    url = f\"\"\"https://api.openweathermap.org/data/2.5/weather?q={city_name},{state_code},{country_code}&appid={base64.b64decode(encoded_key).decode('utf-8')}&units=metric\"\"\"\n",
        "  else:\n",
        "    url = f\"\"\"https://api.openweathermap.org/data/2.5/weather?q={city_name},{state_code},{country_code}&appid={base64.b64decode(encoded_key).decode('utf-8')}&units=imperial\"\"\"\n",
        "  response = requests.get(url)\n",
        "  return response"
      ]
    },
    {
      "cell_type": "code",
      "execution_count": 3,
      "metadata": {
        "id": "WlJ7Y4nPZuZr"
      },
      "outputs": [],
      "source": [
        "def encode_api_key(API_key):\n",
        "    encoded_key = base64.b64encode(API_key.encode()).decode('utf-8')\n",
        "    return encoded_key\n",
        "\n",
        "API_key = 'b03f17721ddcc0700bb0dcc4b47d5dbf'\n",
        "encoded_key = encode_api_key(API_key)\n"
      ]
    },
    {
      "cell_type": "code",
      "execution_count": 4,
      "metadata": {
        "id": "KxvWvHBkYoaa"
      },
      "outputs": [],
      "source": [
        "def city_timezone(latitude, longitude):\n",
        "  tf = TimezoneFinder()\n",
        "  city_timezone = tf.timezone_at(lng=longitude, lat=latitude)\n",
        "  city_tz = pytz.timezone(city_timezone)\n",
        "  utc_now = dt.datetime.now(pytz.utc)\n",
        "  city_time = utc_now.astimezone(city_tz)\n",
        "  return city_time"
      ]
    },
    {
      "cell_type": "code",
      "execution_count": 5,
      "metadata": {
        "collapsed": true,
        "id": "yVvUjI_Tgbkt"
      },
      "outputs": [],
      "source": [
        "def load_settings(file_path):\n",
        "    try:\n",
        "        with open(file_path, 'r') as file:\n",
        "            settings = json.load(file)\n",
        "    except FileNotFoundError:\n",
        "        settings = {}\n",
        "    return settings\n",
        "\n",
        "def save_settings(file_path, settings):\n",
        "    with open(file_path, 'w') as file:\n",
        "        json.dump(settings, file, indent=4)\n"
      ]
    },
    {
      "cell_type": "code",
      "execution_count": null,
      "metadata": {
        "id": "xP8gdlvZgxIy"
      },
      "outputs": [],
      "source": [
        "def main():\n",
        "\n",
        "    while True:\n",
        "        settings = load_settings('settings.json')\n",
        "        print(\"\\nMenu:\")\n",
        "        print(\"1. Set default city\")\n",
        "        print(\"2. Add favorite city\")\n",
        "        print(\"3. Fetch weather\")\n",
        "        print(\"4. Fetch weather of favorite city\")\n",
        "        print(\"5. Exit\")\n",
        "        choice = input(\"Enter your choice: \")\n",
        "\n",
        "        if choice == '1':\n",
        "            city_name = input(\"Enter the default city name: \").lower()\n",
        "            state_code = input(\"Enter state code(or leave empty): \")\n",
        "            country_code = input(\"Enter country code(or leave empty): \")\n",
        "            settings['default_city']={}\n",
        "            settings['default_city'].update({city_name:{'city_name':city_name, 'state_code':state_code, 'country_code':country_code}})\n",
        "            settings['state_code'] = state_code\n",
        "            settings['country_code'] = country_code\n",
        "            save_settings('settings.json', settings)\n",
        "            print(f\"Default city set to: {city_name}\")\n",
        "        elif choice == '2':\n",
        "            favorite_city = input(\"Enter the city name to add to favorites: \").lower()\n",
        "            favorite_state_code = input(\"Enter state code(or leave empty): \")\n",
        "            favorite_country_code = input(\"Enter country code(or leave empty): \")\n",
        "            if \"favorite_cities\" not in settings:\n",
        "              settings['favorite_cities'] = {}\n",
        "            settings['favorite_cities'].update({favorite_city:{'city_name':favorite_city,'state_code':favorite_state_code,'country_code':favorite_country_code}})\n",
        "            save_settings('settings.json', settings)\n",
        "            print(f\"{favorite_city} added to favorite cities.\")\n",
        "        elif choice == '3':\n",
        "            city_name = input(\"Enter the city name (or leave blank to use default): \").lower()\n",
        "            state_code = input(\"Enter state code(or leave empty): \")\n",
        "            country_code = input(\"Enter country code(or leave empty): \")\n",
        "            units = input(\"Enter temperature units (C/F): \").upper()\n",
        "            if not city_name:\n",
        "                if not bool(settings.get(\"default_city\")):\n",
        "                    print(\"No default city set. Please provide a city name.\")\n",
        "                    continue\n",
        "                city_name = list(settings.get(\"default_city\").keys())[0]\n",
        "                state_code = settings.get('default_city').get(city_name).get('state_code', None)\n",
        "                country_code = settings.get('default_city').get(city_name).get('country_code', None)\n",
        "            weather_data = get_weather_data(encoded_key, city_name, state_code, country_code, units)\n",
        "            weather_data = weather_data.json()\n",
        "            if 'cod' in weather_data and weather_data['cod'] == 200:\n",
        "                print(weather_data['name'])\n",
        "                print(weather_data['sys']['country'])\n",
        "                print(weather_data['weather'])\n",
        "                print(weather_data['main'])\n",
        "\n",
        "                coord = (weather_data['coord'])\n",
        "                latitude = coord['lat']\n",
        "                longitude = coord['lon']\n",
        "                city_time = city_timezone(latitude, longitude)\n",
        "                print(\"Current time:\", city_time.strftime('%Y-%m-%d %H:%M:%S %Z%z'))\n",
        "\n",
        "            else:\n",
        "                print(\"Error: city not found.\")\n",
        "        elif choice == '4':\n",
        "            print(\"\\nFavorite cities Menu:\")\n",
        "            list_favorite_cities = list(settings.get(\"favorite_cities\").keys())\n",
        "            if not list_favorite_cities:\n",
        "                print(\"No favorite cities found.\")\n",
        "                continue\n",
        "            for idx, city in enumerate(list_favorite_cities, 1):\n",
        "                print(f\"{idx}. {city}\")\n",
        "            choice_favorite_city = input(\"Enter the number of the favorite city to fetch weather: \")\n",
        "            units = input(\"Enter temperature units (C/F): \").upper()\n",
        "            for idx, city in enumerate(list_favorite_cities, 1):\n",
        "                if str(idx) == choice_favorite_city:\n",
        "                    city_name = list_favorite_cities[idx-1]\n",
        "                    state_code = settings.get('favorite_cities').get(city_name).get('state_code', None)\n",
        "                    country_code = settings.get('favorite_cities').get(city_name).get('country_code', None)\n",
        "            weather_data = get_weather_data(encoded_key, city_name, state_code, country_code, units)\n",
        "            weather_data = weather_data.json()\n",
        "            if 'cod' in weather_data and weather_data['cod'] == 200:\n",
        "              print(weather_data['name'])\n",
        "              print(weather_data['sys']['country'])\n",
        "              print(weather_data['weather'])\n",
        "              print(weather_data['main'])\n",
        "\n",
        "              coord = (weather_data['coord'])\n",
        "              latitude = coord['lat']\n",
        "              longitude = coord['lon']\n",
        "              city_time = city_timezone(latitude, longitude)\n",
        "              print(\"Current time:\", city_time.strftime('%Y-%m-%d %H:%M:%S %Z%z'))\n",
        "        elif choice == '5':\n",
        "            break\n",
        "        else:\n",
        "            print(\"Invalid choice. Please try again.\")\n",
        "\n",
        "if __name__ == \"__main__\":\n",
        "    main()\n",
        "\n"
      ]
    },
    {
      "cell_type": "code",
      "execution_count": null,
      "metadata": {
        "id": "ONNMl0VI2W5A"
      },
      "outputs": [],
      "source": []
    }
  ],
  "metadata": {
    "colab": {
      "provenance": [],
      "authorship_tag": "ABX9TyMiCd5pYHn64ivEhuI1VKzB",
      "include_colab_link": true
    },
    "kernelspec": {
      "display_name": "Python 3",
      "name": "python3"
    },
    "language_info": {
      "name": "python"
    }
  },
  "nbformat": 4,
  "nbformat_minor": 0
}
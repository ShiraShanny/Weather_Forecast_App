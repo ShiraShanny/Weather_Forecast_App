{
  "cells": [
    {
      "cell_type": "markdown",
      "metadata": {
        "id": "view-in-github",
        "colab_type": "text"
      },
      "source": [
        "<a href=\"https://colab.research.google.com/github/ShiraShanny/Weather_Forecast_App/blob/main/Shira_Shanny_BIU_DS217_Python_Project_1_Weather_Forecast.ipynb\" target=\"_parent\"><img src=\"https://colab.research.google.com/assets/colab-badge.svg\" alt=\"Open In Colab\"/></a>"
      ]
    },
    {
      "cell_type": "code",
      "execution_count": null,
      "metadata": {
        "colab": {
          "base_uri": "https://localhost:8080/"
        },
        "id": "d1aCTj5_4Pm8",
        "outputId": "0c366819-79e0-4c21-cfb8-cc44cc5b6ecd"
      },
      "outputs": [
        {
          "output_type": "stream",
          "name": "stdout",
          "text": [
            "Collecting timezonefinder\n",
            "  Downloading timezonefinder-6.5.0.tar.gz (49.4 MB)\n",
            "\u001b[2K     \u001b[90m━━━━━━━━━━━━━━━━━━━━━━━━━━━━━━━━━━━━━━━━\u001b[0m \u001b[32m49.4/49.4 MB\u001b[0m \u001b[31m10.7 MB/s\u001b[0m eta \u001b[36m0:00:00\u001b[0m\n",
            "\u001b[?25h  Installing build dependencies ... \u001b[?25l\u001b[?25hdone\n",
            "  Getting requirements to build wheel ... \u001b[?25l\u001b[?25hdone\n",
            "  Preparing metadata (pyproject.toml) ... \u001b[?25l\u001b[?25hdone\n",
            "Requirement already satisfied: pytz in /usr/local/lib/python3.10/dist-packages (2023.4)\n",
            "Requirement already satisfied: cffi<2,>=1.15.1 in /usr/local/lib/python3.10/dist-packages (from timezonefinder) (1.16.0)\n",
            "Collecting h3<4,>=3.7.6 (from timezonefinder)\n",
            "  Downloading h3-3.7.7-cp310-cp310-manylinux_2_17_x86_64.manylinux2014_x86_64.whl (1.2 MB)\n",
            "\u001b[2K     \u001b[90m━━━━━━━━━━━━━━━━━━━━━━━━━━━━━━━━━━━━━━━━\u001b[0m \u001b[32m1.2/1.2 MB\u001b[0m \u001b[31m52.1 MB/s\u001b[0m eta \u001b[36m0:00:00\u001b[0m\n",
            "\u001b[?25hRequirement already satisfied: numpy<2,>=1.23 in /usr/local/lib/python3.10/dist-packages (from timezonefinder) (1.25.2)\n",
            "Requirement already satisfied: setuptools>=65.5 in /usr/local/lib/python3.10/dist-packages (from timezonefinder) (67.7.2)\n",
            "Requirement already satisfied: pycparser in /usr/local/lib/python3.10/dist-packages (from cffi<2,>=1.15.1->timezonefinder) (2.22)\n",
            "Building wheels for collected packages: timezonefinder\n",
            "  Building wheel for timezonefinder (pyproject.toml) ... \u001b[?25l\u001b[?25hdone\n",
            "  Created wheel for timezonefinder: filename=timezonefinder-6.5.0-cp310-cp310-manylinux_2_35_x86_64.whl size=49412383 sha256=a76d4b16d579bb42776a653797ed32edc03cd42c38ff096443233614ea3a6d94\n",
            "  Stored in directory: /root/.cache/pip/wheels/f2/ae/2d/8bb82cff928de1ce64feef734cf9ef78d84f026693fecc5617\n",
            "Successfully built timezonefinder\n",
            "Installing collected packages: h3, timezonefinder\n",
            "Successfully installed h3-3.7.7 timezonefinder-6.5.0\n"
          ]
        }
      ],
      "source": [
        "!pip install timezonefinder pytz\n",
        "import json\n",
        "import datetime as dt\n",
        "import pytz\n",
        "from timezonefinder import TimezoneFinder\n",
        "import requests\n",
        "import base64"
      ]
    },
    {
      "cell_type": "code",
      "execution_count": null,
      "metadata": {
        "id": "JEOCOrar2ssy"
      },
      "outputs": [],
      "source": [
        "def get_weather_data(encoded_key, city_name, state_code = '', country_code = '',units = 'F'):\n",
        "  if units == 'C':\n",
        "    url = f\"\"\"https://api.openweathermap.org/data/2.5/weather?q={city_name},{state_code},{country_code}&appid={base64.b64decode(encoded_key).decode('utf-8')}&units=metric\"\"\"\n",
        "  else:\n",
        "    url = f\"\"\"https://api.openweathermap.org/data/2.5/weather?q={city_name},{state_code},{country_code}&appid={base64.b64decode(encoded_key).decode('utf-8')}&units=imperial\"\"\"\n",
        "  response = requests.get(url)\n",
        "  return response"
      ]
    },
    {
      "cell_type": "code",
      "execution_count": null,
      "metadata": {
        "id": "WlJ7Y4nPZuZr"
      },
      "outputs": [],
      "source": [
        "def encode_api_key(API_key):\n",
        "    encoded_key = base64.b64encode(API_key.encode()).decode('utf-8')\n",
        "    return encoded_key\n",
        "\n",
        "API_key = 'b03f17721ddcc0700bb0dcc4b47d5dbf'\n",
        "encoded_key = encode_api_key(API_key)\n"
      ]
    },
    {
      "cell_type": "code",
      "execution_count": null,
      "metadata": {
        "id": "KxvWvHBkYoaa"
      },
      "outputs": [],
      "source": [
        "def city_timezone(latitude, longitude):\n",
        "  tf = TimezoneFinder()\n",
        "  city_timezone = tf.timezone_at(lng=longitude, lat=latitude)\n",
        "  city_tz = pytz.timezone(city_timezone)\n",
        "  utc_now = dt.datetime.now(pytz.utc)\n",
        "  city_time = utc_now.astimezone(city_tz)\n",
        "  return city_time"
      ]
    },
    {
      "cell_type": "code",
      "execution_count": null,
      "metadata": {
        "collapsed": true,
        "id": "yVvUjI_Tgbkt"
      },
      "outputs": [],
      "source": [
        "def load_settings(file_path):\n",
        "    try:\n",
        "        with open(file_path, 'r') as file:\n",
        "            settings = json.load(file)\n",
        "    except FileNotFoundError:\n",
        "        settings = {}\n",
        "    return settings\n",
        "\n",
        "def save_settings(file_path, settings):\n",
        "    with open(file_path, 'w') as file:\n",
        "        json.dump(settings, file, indent=4)\n"
      ]
    },
    {
      "cell_type": "code",
      "execution_count": null,
      "metadata": {
        "colab": {
          "base_uri": "https://localhost:8080/",
          "height": 855
        },
        "id": "xP8gdlvZgxIy",
        "outputId": "eb76a43a-3a20-4042-fc33-67747991747b"
      },
      "outputs": [
        {
          "output_type": "stream",
          "name": "stdout",
          "text": [
            "\n",
            "Menu:\n",
            "1. Set default city\n",
            "2. Add favorite city\n",
            "3. Fetch weather\n",
            "4. Fetch weather of favorite city\n",
            "5. Exit\n",
            "Enter your choice: 4\n",
            "\n",
            "Favorite cities Menu:\n",
            "1. london\n",
            "2. new york\n",
            "Enter the number of the favorite city to fetch weather: 1\n",
            "Enter temperature units (C/F): f\n",
            "https://api.openweathermap.org/data/2.5/weather?q=london,,gb&appid=b03f17721ddcc0700bb0dcc4b47d5dbf&units=imperial\n",
            "London\n",
            "GB\n",
            "[{'id': 801, 'main': 'Clouds', 'description': 'few clouds', 'icon': '02d'}]\n",
            "{'temp': 57.47, 'feels_like': 56.68, 'temp_min': 54.86, 'temp_max': 59, 'pressure': 1002, 'humidity': 80}\n",
            "Current time: 2024-06-15 20:37:07 BST+0100\n",
            "\n",
            "Menu:\n",
            "1. Set default city\n",
            "2. Add favorite city\n",
            "3. Fetch weather\n",
            "4. Fetch weather of favorite city\n",
            "5. Exit\n"
          ]
        },
        {
          "output_type": "error",
          "ename": "KeyboardInterrupt",
          "evalue": "Interrupted by user",
          "traceback": [
            "\u001b[0;31m---------------------------------------------------------------------------\u001b[0m",
            "\u001b[0;31mKeyboardInterrupt\u001b[0m                         Traceback (most recent call last)",
            "\u001b[0;32m<ipython-input-38-953425147b19>\u001b[0m in \u001b[0;36m<cell line: 93>\u001b[0;34m()\u001b[0m\n\u001b[1;32m     92\u001b[0m \u001b[0;34m\u001b[0m\u001b[0m\n\u001b[1;32m     93\u001b[0m \u001b[0;32mif\u001b[0m \u001b[0m__name__\u001b[0m \u001b[0;34m==\u001b[0m \u001b[0;34m\"__main__\"\u001b[0m\u001b[0;34m:\u001b[0m\u001b[0;34m\u001b[0m\u001b[0;34m\u001b[0m\u001b[0m\n\u001b[0;32m---> 94\u001b[0;31m     \u001b[0mmain\u001b[0m\u001b[0;34m(\u001b[0m\u001b[0;34m)\u001b[0m\u001b[0;34m\u001b[0m\u001b[0;34m\u001b[0m\u001b[0m\n\u001b[0m\u001b[1;32m     95\u001b[0m \u001b[0;34m\u001b[0m\u001b[0m\n",
            "\u001b[0;32m<ipython-input-38-953425147b19>\u001b[0m in \u001b[0;36mmain\u001b[0;34m()\u001b[0m\n\u001b[1;32m      9\u001b[0m         \u001b[0mprint\u001b[0m\u001b[0;34m(\u001b[0m\u001b[0;34m\"4. Fetch weather of favorite city\"\u001b[0m\u001b[0;34m)\u001b[0m\u001b[0;34m\u001b[0m\u001b[0;34m\u001b[0m\u001b[0m\n\u001b[1;32m     10\u001b[0m         \u001b[0mprint\u001b[0m\u001b[0;34m(\u001b[0m\u001b[0;34m\"5. Exit\"\u001b[0m\u001b[0;34m)\u001b[0m\u001b[0;34m\u001b[0m\u001b[0;34m\u001b[0m\u001b[0m\n\u001b[0;32m---> 11\u001b[0;31m         \u001b[0mchoice\u001b[0m \u001b[0;34m=\u001b[0m \u001b[0minput\u001b[0m\u001b[0;34m(\u001b[0m\u001b[0;34m\"Enter your choice: \"\u001b[0m\u001b[0;34m)\u001b[0m\u001b[0;34m\u001b[0m\u001b[0;34m\u001b[0m\u001b[0m\n\u001b[0m\u001b[1;32m     12\u001b[0m \u001b[0;34m\u001b[0m\u001b[0m\n\u001b[1;32m     13\u001b[0m         \u001b[0;32mif\u001b[0m \u001b[0mchoice\u001b[0m \u001b[0;34m==\u001b[0m \u001b[0;34m'1'\u001b[0m\u001b[0;34m:\u001b[0m\u001b[0;34m\u001b[0m\u001b[0;34m\u001b[0m\u001b[0m\n",
            "\u001b[0;32m/usr/local/lib/python3.10/dist-packages/ipykernel/kernelbase.py\u001b[0m in \u001b[0;36mraw_input\u001b[0;34m(self, prompt)\u001b[0m\n\u001b[1;32m    849\u001b[0m                 \u001b[0;34m\"raw_input was called, but this frontend does not support input requests.\"\u001b[0m\u001b[0;34m\u001b[0m\u001b[0;34m\u001b[0m\u001b[0m\n\u001b[1;32m    850\u001b[0m             )\n\u001b[0;32m--> 851\u001b[0;31m         return self._input_request(str(prompt),\n\u001b[0m\u001b[1;32m    852\u001b[0m             \u001b[0mself\u001b[0m\u001b[0;34m.\u001b[0m\u001b[0m_parent_ident\u001b[0m\u001b[0;34m,\u001b[0m\u001b[0;34m\u001b[0m\u001b[0;34m\u001b[0m\u001b[0m\n\u001b[1;32m    853\u001b[0m             \u001b[0mself\u001b[0m\u001b[0;34m.\u001b[0m\u001b[0m_parent_header\u001b[0m\u001b[0;34m,\u001b[0m\u001b[0;34m\u001b[0m\u001b[0;34m\u001b[0m\u001b[0m\n",
            "\u001b[0;32m/usr/local/lib/python3.10/dist-packages/ipykernel/kernelbase.py\u001b[0m in \u001b[0;36m_input_request\u001b[0;34m(self, prompt, ident, parent, password)\u001b[0m\n\u001b[1;32m    893\u001b[0m             \u001b[0;32mexcept\u001b[0m \u001b[0mKeyboardInterrupt\u001b[0m\u001b[0;34m:\u001b[0m\u001b[0;34m\u001b[0m\u001b[0;34m\u001b[0m\u001b[0m\n\u001b[1;32m    894\u001b[0m                 \u001b[0;31m# re-raise KeyboardInterrupt, to truncate traceback\u001b[0m\u001b[0;34m\u001b[0m\u001b[0;34m\u001b[0m\u001b[0m\n\u001b[0;32m--> 895\u001b[0;31m                 \u001b[0;32mraise\u001b[0m \u001b[0mKeyboardInterrupt\u001b[0m\u001b[0;34m(\u001b[0m\u001b[0;34m\"Interrupted by user\"\u001b[0m\u001b[0;34m)\u001b[0m \u001b[0;32mfrom\u001b[0m \u001b[0;32mNone\u001b[0m\u001b[0;34m\u001b[0m\u001b[0;34m\u001b[0m\u001b[0m\n\u001b[0m\u001b[1;32m    896\u001b[0m             \u001b[0;32mexcept\u001b[0m \u001b[0mException\u001b[0m \u001b[0;32mas\u001b[0m \u001b[0me\u001b[0m\u001b[0;34m:\u001b[0m\u001b[0;34m\u001b[0m\u001b[0;34m\u001b[0m\u001b[0m\n\u001b[1;32m    897\u001b[0m                 \u001b[0mself\u001b[0m\u001b[0;34m.\u001b[0m\u001b[0mlog\u001b[0m\u001b[0;34m.\u001b[0m\u001b[0mwarning\u001b[0m\u001b[0;34m(\u001b[0m\u001b[0;34m\"Invalid Message:\"\u001b[0m\u001b[0;34m,\u001b[0m \u001b[0mexc_info\u001b[0m\u001b[0;34m=\u001b[0m\u001b[0;32mTrue\u001b[0m\u001b[0;34m)\u001b[0m\u001b[0;34m\u001b[0m\u001b[0;34m\u001b[0m\u001b[0m\n",
            "\u001b[0;31mKeyboardInterrupt\u001b[0m: Interrupted by user"
          ]
        }
      ],
      "source": [
        "def main():\n",
        "\n",
        "    while True:\n",
        "        settings = load_settings('settings.json')\n",
        "        print(\"\\nMenu:\")\n",
        "        print(\"1. Set default city\")\n",
        "        print(\"2. Add favorite city\")\n",
        "        print(\"3. Fetch weather\")\n",
        "        print(\"4. Fetch weather of favorite city\")\n",
        "        print(\"5. Exit\")\n",
        "        choice = input(\"Enter your choice: \")\n",
        "\n",
        "        if choice == '1':\n",
        "            city_name = input(\"Enter the default city name: \").lower()\n",
        "            state_code = input(\"Enter state code(or leave empty): \")\n",
        "            country_code = input(\"Enter country code(or leave empty): \")\n",
        "            settings['default_city']={}\n",
        "            settings['default_city'].update({city_name:{'city_name':city_name, 'state_code':state_code, 'country_code':country_code}})\n",
        "            settings['state_code'] = state_code\n",
        "            settings['country_code'] = country_code\n",
        "            save_settings('settings.json', settings)\n",
        "            print(f\"Default city set to: {city_name}\")\n",
        "        elif choice == '2':\n",
        "            favorite_city = input(\"Enter the city name to add to favorites: \").lower()\n",
        "            favorite_state_code = input(\"Enter state code(or leave empty): \")\n",
        "            favorite_country_code = input(\"Enter country code(or leave empty): \")\n",
        "            if \"favorite_cities\" not in settings:\n",
        "              settings['favorite_cities'] = {}\n",
        "            settings['favorite_cities'].update({favorite_city:{'city_name':favorite_city,'state_code':favorite_state_code,'country_code':favorite_country_code}})\n",
        "            save_settings('settings.json', settings)\n",
        "            print(f\"{favorite_city} added to favorite cities.\")\n",
        "        elif choice == '3':\n",
        "            city_name = input(\"Enter the city name (or leave blank to use default): \").lower()\n",
        "            state_code = input(\"Enter state code(or leave empty): \")\n",
        "            country_code = input(\"Enter country code(or leave empty): \")\n",
        "            units = input(\"Enter temperature units (C/F): \").upper()\n",
        "            if not city_name:\n",
        "                if not bool(settings.get(\"default_city\")):\n",
        "                    print(\"No default city set. Please provide a city name.\")\n",
        "                    continue\n",
        "                city_name = list(settings.get(\"default_city\").keys())[0]\n",
        "                state_code = settings.get('default_city').get(city_name).get('state_code', None)\n",
        "                country_code = settings.get('default_city').get(city_name).get('country_code', None)\n",
        "            weather_data = get_weather_data(encoded_key, city_name, state_code, country_code, units)\n",
        "            weather_data = weather_data.json()\n",
        "            if 'cod' in weather_data and weather_data['cod'] == 200:\n",
        "                print(weather_data['name'])\n",
        "                print(weather_data['sys']['country'])\n",
        "                print(weather_data['weather'])\n",
        "                print(weather_data['main'])\n",
        "\n",
        "                coord = (weather_data['coord'])\n",
        "                latitude = coord['lat']\n",
        "                longitude = coord['lon']\n",
        "                city_time = city_timezone(latitude, longitude)\n",
        "                print(\"Current time:\", city_time.strftime('%Y-%m-%d %H:%M:%S %Z%z'))\n",
        "\n",
        "            else:\n",
        "                print(\"Error: city not found.\")\n",
        "        elif choice == '4':\n",
        "            print(\"\\nFavorite cities Menu:\")\n",
        "            list_favorite_cities = list(settings.get(\"favorite_cities\").keys())\n",
        "            if not list_favorite_cities:\n",
        "                print(\"No favorite cities found.\")\n",
        "                continue\n",
        "            for idx, city in enumerate(list_favorite_cities, 1):\n",
        "                print(f\"{idx}. {city}\")\n",
        "            choice_favorite_city = input(\"Enter the number of the favorite city to fetch weather: \")\n",
        "            units = input(\"Enter temperature units (C/F): \").upper()\n",
        "            for idx, city in enumerate(list_favorite_cities, 1):\n",
        "                if str(idx) == choice_favorite_city:\n",
        "                    city_name = list_favorite_cities[idx-1]\n",
        "                    state_code = settings.get('favorite_cities').get(city_name).get('state_code', None)\n",
        "                    country_code = settings.get('favorite_cities').get(city_name).get('country_code', None)\n",
        "            weather_data = get_weather_data(encoded_key, city_name, state_code, country_code, units)\n",
        "            weather_data = weather_data.json()\n",
        "            if 'cod' in weather_data and weather_data['cod'] == 200:\n",
        "              print(weather_data['name'])\n",
        "              print(weather_data['sys']['country'])\n",
        "              print(weather_data['weather'])\n",
        "              print(weather_data['main'])\n",
        "\n",
        "              coord = (weather_data['coord'])\n",
        "              latitude = coord['lat']\n",
        "              longitude = coord['lon']\n",
        "              city_time = city_timezone(latitude, longitude)\n",
        "              print(\"Current time:\", city_time.strftime('%Y-%m-%d %H:%M:%S %Z%z'))\n",
        "        elif choice == '5':\n",
        "            break\n",
        "        else:\n",
        "            print(\"Invalid choice. Please try again.\")\n",
        "\n",
        "if __name__ == \"__main__\":\n",
        "    main()\n",
        "\n"
      ]
    },
    {
      "cell_type": "code",
      "execution_count": null,
      "metadata": {
        "id": "ONNMl0VI2W5A"
      },
      "outputs": [],
      "source": []
    }
  ],
  "metadata": {
    "colab": {
      "provenance": [],
      "authorship_tag": "ABX9TyMiCd5pYHn64ivEhuI1VKzB",
      "include_colab_link": true
    },
    "kernelspec": {
      "display_name": "Python 3",
      "name": "python3"
    },
    "language_info": {
      "name": "python"
    }
  },
  "nbformat": 4,
  "nbformat_minor": 0
}